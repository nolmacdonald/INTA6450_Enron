{
 "cells": [
  {
   "cell_type": "markdown",
   "metadata": {},
   "source": [
    "# Network Analysis"
   ]
  },
  {
   "cell_type": "markdown",
   "metadata": {},
   "source": [
    "Network analysis can be utilized to understand communication patterns between employees.\n",
    "Building an email network is helpful with network analysis to visualize communication between individuals \n",
    "by creating a graph with representation for each employee and email communication. \n",
    "When developing a network analysis measurements of network distribution will be important \n",
    "to identify to determine how nodes and edges are distributed in a network. \n",
    "This includes the important theory of betweenness centrality, which can show which\n",
    "nodes are likely pathways of information and what employees would act as bridges to facilitate\n",
    "communication for wrongdoing acts.\n",
    "With use of the Python package, NetworkX, creation and analysis can be performed for complex networks. \n",
    "Email networks can help\n",
    "uncover key individuals, groups and relationships."
   ]
  },
  {
   "cell_type": "markdown",
   "metadata": {},
   "source": [
    "- `nxviz`\n",
    "- `G = nx.from_pandas_dataframe(data, 'sender', 'recipient1', edge_attr=['date', 'subject'])`\n",
    "- `nxviz.ArcPlot`\n",
    "- `nxviz.CircosPlot`\n",
    "- `networkx.draw_networkx(G, networkx.spring_layout(G, k=0.1), node_size=25, node_color='red', with_labels=True, edge_color='blue'))`\n",
    "    - `k` or spring tension in `spring_layout` changes the visualization (small k is more useful)\n",
    "- Degree Centrality\n",
    "- Betweenness Centraility\n",
    "\n",
    "[Kaggle - Enron Network Analysis](https://www.kaggle.com/code/jamestollefson/enron-network-analysis)"
   ]
  },
  {
   "cell_type": "markdown",
   "metadata": {},
   "source": [
    "- Anomaly Detection, Social Network Analysis, Email Body Analysis\n",
    "\n",
    "[Enron-Email-Analysis](https://github.com/mihir-m-gandhi/Enron-Email-Analysis)"
   ]
  },
  {
   "cell_type": "markdown",
   "metadata": {},
   "source": [
    "[Network Analysis with the Enron Email Corpus](https://www.tandfonline.com/doi/pdf/10.1080/10691898.2015.11889734)\n",
    "[Exploration of Communication Networks from the Enron Email Corpus](http://www.casos.cs.cmu.edu/publications/protected/2005-2006/diesner_2005_explorationsenron.pdf)"
   ]
  },
  {
   "cell_type": "markdown",
   "metadata": {},
   "source": [
    "\n",
    "Social Network Analysis\n",
    "\n",
    "Refer to the Python package `networkx` for information on network analysis in Python [1].\n",
    "Good examples of social network analysis with Python in [2].\n",
    "\n",
    "- Pre-Processing:\n",
    "    - Load the dataset\n",
    "    - Clean Data: Remove any emails with missing information, irrelevant emails, etc.\n",
    "- Build Network\n",
    "    - Directed Graph: e.g., sender and recipient represent the nodes, and each email is a directed edge from sender to recipient\n",
    "    - Analyze Network Properties: Centrality bar charts (Refer to [2])\n",
    "        - Degree Centrality: Identify individuals who sent or received the most emails.\n",
    "        - Betweenness Centrality: Identify key individuals who serve as intermediaries.\n",
    "        - Closeness Centrality: Find individuals who are closest to others on average.\n",
    "        - Eigenvector Centrality: Help identify key figures who are well-connected to other influential individuals, providing deeper insight into the power dynamics within the Enron network.\n",
    "            - High Eigenvector Centrality: Individuals with high scores are not only well-connected but connected to other influential people in the network. \n",
    "            These could represent core members of critical communication networks or leaders in the organization.\n",
    "            - Low Eigenvector Centrality: Individuals with low scores are likely either peripheral or isolated in the network or are only connected to others with similarly low influence.\n",
    "- Additional Network Ideas:\n",
    "    - Detect Communities: Community detection algorithms (e.g., Girvan-Newman) to find groups within the network.\n",
    "    - Analyze Clusters: Investigate clusters within the network to understand isolated teams or departments.\n",
    "- Visualize Network:\n",
    "    - Color-code communities or size nodes by centrality for\n",
    "    - Extra detail for more information: Color-code communities or size nodes by centrality\n",
    "- Reference NetworkX: [bibtex](http://conference.scipy.org.s3-website-us-east-1.amazonaws.com/proceedings/scipy2008/paper_2/reference.bib)\n",
    "\n",
    "[1](https://networkx.org/documentation/stable/index.html)\n",
    "[2](https://link.springer.com/book/10.1007/978-3-319-53004-8)"
   ]
  },
  {
   "cell_type": "markdown",
   "metadata": {},
   "source": []
  }
 ],
 "metadata": {
  "language_info": {
   "name": "python"
  }
 },
 "nbformat": 4,
 "nbformat_minor": 2
}
