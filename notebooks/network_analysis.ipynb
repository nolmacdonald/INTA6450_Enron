{
 "cells": [
  {
   "cell_type": "markdown",
   "metadata": {},
   "source": [
    "# Network Analysis"
   ]
  },
  {
   "cell_type": "markdown",
   "metadata": {},
   "source": [
    "Network analysis can be utilized to understand communication patterns between employees.\n",
    "Building an email network is helpful with network analysis to visualize communication between individuals \n",
    "by creating a graph with representation for each employee and email communication. \n",
    "When developing a network analysis measurements of network distribution will be important \n",
    "to identify to determine how nodes and edges are distributed in a network. \n",
    "This includes the important theory of betweenness centrality, which can show which\n",
    "nodes are likely pathways of information and what employees would act as bridges to facilitate\n",
    "communication for wrongdoing acts.\n",
    "With use of the Python package, NetworkX, creation and analysis can be performed for complex networks. \n",
    "Email networks can help\n",
    "uncover key individuals, groups and relationships."
   ]
  },
  {
   "cell_type": "markdown",
   "metadata": {},
   "source": [
    "- `nxviz`\n",
    "- `G = nx.from_pandas_dataframe(data, 'sender', 'recipient1', edge_attr=['date', 'subject'])`\n",
    "- `nxviz.ArcPlot`\n",
    "- `nxviz.CircosPlot`\n",
    "- `networkx.draw_networkx(G, networkx.spring_layout(G, k=0.1), node_size=25, node_color='red', with_labels=True, edge_color='blue'))`\n",
    "    - `k` or spring tension in `spring_layout` changes the visualization (small k is more useful)\n",
    "- Degree Centrality\n",
    "- Betweenness Centraility\n",
    "\n",
    "[Kaggle - Enron Network Analysis](https://www.kaggle.com/code/jamestollefson/enron-network-analysis)"
   ]
  },
  {
   "cell_type": "markdown",
   "metadata": {},
   "source": [
    "- Anomaly Detection, Social Network Analysis, Email Body Analysis\n",
    "\n",
    "[Enron-Email-Analysis](https://github.com/mihir-m-gandhi/Enron-Email-Analysis)"
   ]
  },
  {
   "cell_type": "markdown",
   "metadata": {},
   "source": [
    "[Network Analysis with the Enron Email Corpus](https://www.tandfonline.com/doi/pdf/10.1080/10691898.2015.11889734)\n",
    "[Exploration of Communication Networks from the Enron Email Corpus](http://www.casos.cs.cmu.edu/publications/protected/2005-2006/diesner_2005_explorationsenron.pdf)"
   ]
  },
  {
   "cell_type": "markdown",
   "metadata": {},
   "source": [
    "\n",
    "Social Network Analysis\n",
    "\n",
    "Refer to the Python package `networkx` for information on network analysis in Python [1].\n",
    "Good examples of social network analysis with Python in [2].\n",
    "\n",
    "- Pre-Processing:\n",
    "    - Load the dataset\n",
    "    - Clean Data: Remove any emails with missing information, irrelevant emails, etc.\n",
    "- Build Network\n",
    "    - Directed Graph: e.g., sender and recipient represent the nodes, and each email is a directed edge from sender to recipient\n",
    "    - Analyze Network Properties: Centrality bar charts (Refer to [2])\n",
    "        - Degree Centrality: Identify individuals who sent or received the most emails.\n",
    "        - Betweenness Centrality: Identify key individuals who serve as intermediaries.\n",
    "        - Closeness Centrality: Find individuals who are closest to others on average.\n",
    "        - Eigenvector Centrality: Help identify key figures who are well-connected to other influential individuals, providing deeper insight into the power dynamics within the Enron network.\n",
    "            - High Eigenvector Centrality: Individuals with high scores are not only well-connected but connected to other influential people in the network. \n",
    "            These could represent core members of critical communication networks or leaders in the organization.\n",
    "            - Low Eigenvector Centrality: Individuals with low scores are likely either peripheral or isolated in the network or are only connected to others with similarly low influence.\n",
    "- Additional Network Ideas:\n",
    "    - Detect Communities: Community detection algorithms (e.g., Girvan-Newman) to find groups within the network.\n",
    "    - Analyze Clusters: Investigate clusters within the network to understand isolated teams or departments.\n",
    "- Visualize Network:\n",
    "    - Color-code communities or size nodes by centrality for\n",
    "    - Extra detail for more information: Color-code communities or size nodes by centrality\n",
    "- Reference NetworkX: [bibtex](http://conference.scipy.org.s3-website-us-east-1.amazonaws.com/proceedings/scipy2008/paper_2/reference.bib)\n",
    "\n",
    "[1](https://networkx.org/documentation/stable/index.html)\n",
    "[2](https://link.springer.com/book/10.1007/978-3-319-53004-8)"
   ]
  },
  {
   "cell_type": "markdown",
   "metadata": {},
   "source": []
  },
  {
   "cell_type": "markdown",
   "metadata": {},
   "source": [
    "## Import Modules"
   ]
  },
  {
   "cell_type": "code",
   "execution_count": null,
   "metadata": {},
   "outputs": [],
   "source": [
    "import numpy as np\n",
    "import os\n",
    "import pandas as pd\n",
    "import sqlite3\n",
    "import re\n",
    "import json\n",
    "import matplotlib.pyplot as plt\n",
    "import seaborn as sns\n",
    "import networkx as nx\n",
    "import nxviz as nv\n",
    "\n",
    "from bs4 import BeautifulSoup\n",
    "import re\n",
    "from nltk.tokenize import word_tokenize\n",
    "from nltk.corpus import stopwords\n",
    "from nltk.stem import PorterStemmer\n",
    "\n",
    "# Get the full path to the root directory\n",
    "# os.path.dirname(os.getcwd()) is root dir - INTA6450_Enron/ folder\n",
    "root_dir = os.path.dirname(os.getcwd())\n",
    "print(f\"Root directory: {root_dir}\")\n",
    "# Current working directory\n",
    "cwd = os.getcwd()\n",
    "print(f\"Current working directory: {cwd}\")"
   ]
  },
  {
   "cell_type": "markdown",
   "metadata": {},
   "source": [
    "## Load Database"
   ]
  },
  {
   "cell_type": "code",
   "execution_count": null,
   "metadata": {},
   "outputs": [],
   "source": [
    "# INTA6450_Enron/data/emails.db\n",
    "path_db = f\"{root_dir}/data/emails.db\"\n",
    "\n",
    "# Table name for DataFrame saved in the database\n",
    "table_name = \"emails\"\n",
    "\n",
    "# Connect to the database (or create it if it doesn't exist)\n",
    "connection = sqlite3.connect(path_db)\n",
    "\n",
    "# Create a cursor object to execute SQL commands\n",
    "cursor = connection.cursor()\n",
    "\n",
    "# Load the dataframe from the SQLite database\n",
    "emails_df = pd.read_sql_query(f\"SELECT * FROM {table_name}\", connection)\n",
    "\n",
    "# Close the connection\n",
    "connection.close()\n",
    "\n",
    "# Show email data\n",
    "emails_df.head()"
   ]
  },
  {
   "cell_type": "markdown",
   "metadata": {},
   "source": [
    "# Examine Data\n",
    "\n",
    "Look at the first email in the DataFrame."
   ]
  },
  {
   "cell_type": "code",
   "execution_count": null,
   "metadata": {},
   "outputs": [],
   "source": [
    "# Get the first email text\n",
    "text = emails_df.iloc[0][\"text\"]\n",
    "\n",
    "# Remove newline characters\n",
    "text_newline = re.sub(r\"\\n\", \" \", text)\n",
    "\n",
    "# Prepare the data dictionary for JSON\n",
    "data = {\"text\": text, \"text_clean\": text_newline}\n",
    "\n",
    "# Save to text.json\n",
    "# file_path = f\"{cwd}/text.json\"\n",
    "# with open(file_path, \"w\") as file:\n",
    "#     json.dump(data, file)\n",
    "\n",
    "# Get the text\n",
    "text = data[\"text\"]\n",
    "clean = data[\"text_clean\"]\n",
    "\n",
    "# Print the formatted text\n",
    "print(text)"
   ]
  },
  {
   "cell_type": "markdown",
   "metadata": {},
   "source": [
    "# Unique Folder Count\n",
    "\n",
    "Number of Emails in the data base that were obtained from a specific folder."
   ]
  },
  {
   "cell_type": "markdown",
   "metadata": {},
   "source": [
    "## Filter Data"
   ]
  },
  {
   "cell_type": "code",
   "execution_count": null,
   "metadata": {},
   "outputs": [],
   "source": [
    "df = emails_df.copy()\n",
    "\n",
    "print(\"number of folders: \", df.shape[0])\n",
    "print(\"number of unique folders: \", df[\"folder\"].unique().shape[0])\n",
    "\n",
    "unique_emails = pd.DataFrame(df[\"folder\"].value_counts())\n",
    "unique_emails.reset_index(inplace=True)\n",
    "\n",
    "\n",
    "unique_emails.columns = [\"folder_name\", \"count\"]\n",
    "unique_emails.head(10)"
   ]
  },
  {
   "cell_type": "markdown",
   "metadata": {},
   "source": [
    "## Plot Top 20 Folders"
   ]
  },
  {
   "cell_type": "code",
   "execution_count": null,
   "metadata": {},
   "outputs": [],
   "source": [
    "plt.figure(figsize=(10, 6))\n",
    "\n",
    "# Grid\n",
    "# plt.grid(zorder=1)\n",
    "\n",
    "# Top 20 folders\n",
    "data_filter = unique_emails.iloc[:20, :]\n",
    "\n",
    "# Color palette\n",
    "palette = sns.color_palette(\"hls\", len(data_filter))\n",
    "\n",
    "ax = sns.barplot(\n",
    "    x=\"count\", y=\"folder_name\", data=data_filter, \n",
    "    palette=palette, zorder=2\n",
    ")\n",
    "\n",
    "plt.title(f\"TOP {len(data_filter)} FOLDERS\", fontsize=14, fontweight=\"bold\")\n",
    "plt.xlabel(\"Number of Emails\")\n",
    "plt.ylabel(\"Email Folder Name\")\n",
    "\n",
    "# Adjust font size of y-axis tick labels\n",
    "ax.tick_params(axis=\"y\", labelsize=8)\n",
    "\n",
    "# Adding text labels\n",
    "for container in ax.containers:\n",
    "    ax.bar_label(container, fmt = \"%.0f\", label_type=\"edge\", padding=-25, \n",
    "                 fontsize = 8, fontweight=\"bold\", zorder = 3)\n",
    "\n",
    "# Save the plot before showing it\n",
    "plt.savefig(f\"{root_dir}/data/figures/top_20_folders_email_count.png\", format=\"png\", dpi=300, bbox_inches=\"tight\")\n",
    "\n",
    "# Show plot\n",
    "plt.show()"
   ]
  },
  {
   "cell_type": "markdown",
   "metadata": {},
   "source": [
    "# Emails Sent"
   ]
  },
  {
   "cell_type": "markdown",
   "metadata": {},
   "source": [
    "## Filter Data\n",
    "\n",
    "- Cleaned up majority of email addresses that contained apostrophes, `<', '>', and duplicate periods in the name."
   ]
  },
  {
   "cell_type": "code",
   "execution_count": null,
   "metadata": {},
   "outputs": [],
   "source": [
    "df = emails_df.copy()\n",
    "\n",
    "# Fix broken emails\n",
    "# Remove apostrophes from 'from' and 'x-from' columns\n",
    "# df[\"from\"] = df[\"from\"].str.replace(\"'\", \"\", regex=False)\n",
    "# # Remove \" <\" before the email\n",
    "# df['from'] = df['from'].str.replace(r'\\s<', '', regex=True) \n",
    "# # Remove \">\" after the email\n",
    "# df['from'] = df['from'].str.replace(r'>', '', regex=True)\n",
    "# # Replace double periods with a single period\n",
    "# df['from'] = df['from'].str.replace(r'\\.\\.', '.', regex=True)\n",
    "\n",
    "\n",
    "\n",
    "def clean_email_address(email):\n",
    "    \"\"\"Clean and fix broken email addresses.\"\"\"\n",
    "    if not isinstance(email, str):\n",
    "        return email  # Return the value unchanged if it's not a string\n",
    "    \n",
    "    # Remove apostrophes\n",
    "    email = re.sub(r\"'\", \"\", email)\n",
    "    # Remove \" <\" before the email\n",
    "    email = re.sub(r'\\s<', '', email)\n",
    "    # Remove \">\" after the email\n",
    "    email = re.sub(r'>', '', email)\n",
    "    # Replace double periods with a single period\n",
    "    email = re.sub(r'\\.\\.', '.', email)\n",
    "    \n",
    "    return email\n",
    "\n",
    "# Apply the function to the DataFrame\n",
    "df['from'] = df['from'].apply(clean_email_address)\n",
    "\n",
    "\n",
    "# TODO: Write to db\n",
    "\n",
    "# Show email data\n",
    "df.head()"
   ]
  },
  {
   "cell_type": "code",
   "execution_count": null,
   "metadata": {},
   "outputs": [],
   "source": [
    "df[\"text\"].iloc[0]"
   ]
  },
  {
   "cell_type": "code",
   "execution_count": null,
   "metadata": {},
   "outputs": [],
   "source": [
    "def clean_text(text):\n",
    "    \"\"\"Clean the email text by removing unwanted characters and formatting.\"\"\"\n",
    "    # Remove newline characters\n",
    "    text = re.sub(r'\\n', ' ', text)\n",
    "    # Remove multiple spaces\n",
    "    text = re.sub(r'\\s+', ' ', text)\n",
    "    # Remove any non-alphanumeric characters except spaces\n",
    "    text = re.sub(r'[^a-zA-Z0-9\\s]', '', text)\n",
    "    return text\n",
    "\n",
    "# Apply the clean_text function to the 'text' column\n",
    "clean = df['text'].apply(clean_text)\n",
    "\n",
    "# Display the cleaned text of the first email\n",
    "# df['clean_text'].iloc[0]\n",
    "clean[0]"
   ]
  },
  {
   "cell_type": "code",
   "execution_count": null,
   "metadata": {},
   "outputs": [],
   "source": [
    "clean[4]"
   ]
  },
  {
   "cell_type": "markdown",
   "metadata": {},
   "source": [
    "## Invalid Email Addresses\n",
    "\n",
    "- The invalid email address were identified that do not contain `first.last@email`\n",
    "- 5 invalid email addresses that sent 5 total emails is not too bad for 250K total emails"
   ]
  },
  {
   "cell_type": "markdown",
   "metadata": {},
   "source": [
    "## Most Sent Emails\n",
    "\n",
    "- Filter the data to determine the emails with the most sent emails in the database"
   ]
  },
  {
   "cell_type": "code",
   "execution_count": null,
   "metadata": {},
   "outputs": [],
   "source": [
    "# Create a DataFrame to count unique pairs of 'from' and 'x-from'\n",
    "df_senders = df.groupby([\"from\"]).size().reset_index(name=\"Counts\")\n",
    "\n",
    "# Sort the DataFrame by 'Counts' in descending order\n",
    "df_senders = df_senders.sort_values(by=\"Counts\", ascending=False)\n",
    "\n",
    "# Reset the index to be sequential from 0 to N\n",
    "df_senders.reset_index(drop=True, inplace=True)\n",
    "\n",
    "# Rename the columns in df_senders\n",
    "df_senders = df_senders.rename(columns={\"from\": \"Sender Address\"})\n",
    "\n",
    "# Display the resulting DataFrame\n",
    "df_senders.head(20)"
   ]
  },
  {
   "cell_type": "markdown",
   "metadata": {},
   "source": [
    "## Search Email Data"
   ]
  },
  {
   "cell_type": "code",
   "execution_count": null,
   "metadata": {},
   "outputs": [],
   "source": [
    "# Search for rows in the 'Address' column that contain legal\n",
    "df_senders_filtered = df_senders[\n",
    "    df_senders[\"Sender Address\"].str.contains(r\"piassick\", regex=True, na=False)\n",
    "]\n",
    "df_senders_filtered.reset_index(drop=True, inplace=True)\n",
    "# Display the filtered rows\n",
    "df_senders_filtered.head(20)"
   ]
  },
  {
   "cell_type": "markdown",
   "metadata": {},
   "source": [
    "## Email Meta Data"
   ]
  },
  {
   "cell_type": "code",
   "execution_count": null,
   "metadata": {},
   "outputs": [],
   "source": [
    "# Calculate total number of emails and total newline count\n",
    "total_emails = len(emails_df)\n",
    "total_newlines = emails_df[\"text\"].str.count(\"\\n\").sum()\n",
    "\n",
    "# Count email addresses in each email body and calculate total email addresses\n",
    "emails_df[\"email_count\"] = emails_df[\"text\"].str.count(r\"\\S+@\\S+\")\n",
    "total_email_addresses = emails_df[\"email_count\"].sum()\n",
    "\n",
    "# Count URLs in each email body\n",
    "emails_df[\"url_count\"] = emails_df[\"text\"].str.count(r\"http\\S+|www\\S+\")\n",
    "total_urls = emails_df[\"url_count\"].sum()\n",
    "\n",
    "# Count special characters and punctuation in each email body\n",
    "emails_df[\"special_char_count\"] = emails_df[\"text\"].str.count(r\"[^a-zA-Z\\s]\")\n",
    "total_special_chars = emails_df[\"special_char_count\"].sum()\n",
    "\n",
    "# Count words in each email body\n",
    "emails_df[\"word_count\"] = emails_df[\"text\"].str.findall(r\"\\b\\w+\\b\").str.len()\n",
    "total_words = emails_df[\"word_count\"].sum()\n",
    "\n",
    "# Count sentences in each email body (heuristic based on sentence-ending punctuation)\n",
    "emails_df[\"sentence_count\"] = emails_df[\"text\"].str.count(r\"[.!?]\")\n",
    "total_sentences = emails_df[\"sentence_count\"].sum()\n",
    "\n",
    "# Create the new DataFrame with newline counts\n",
    "newline_counts_df = emails_df[[\"text\"]].copy()\n",
    "\n",
    "# Add counts into df\n",
    "newline_counts_df[\"New Lines \\\\n\"] = emails_df[\"text\"].str.count(\"\\n\")\n",
    "newline_counts_df[\"Email Count\"] = emails_df[\"email_count\"]\n",
    "newline_counts_df[\"URL Count\"] = emails_df[\"url_count\"]\n",
    "newline_counts_df[\"Special Char Count\"] = emails_df[\"special_char_count\"]\n",
    "newline_counts_df[\"Word Count\"] = emails_df[\"word_count\"]\n",
    "newline_counts_df[\"Sentence Count\"] = emails_df[\"sentence_count\"]\n",
    "\n",
    "# Create a new row for the totals and insert it at the top of the DataFrame\n",
    "totals_row = pd.DataFrame(\n",
    "    {\n",
    "        \"text\": [\"Total Emails\"],\n",
    "        \"New Lines \\\\n\": [total_newlines],\n",
    "        \"Email Count\": [total_email_addresses],\n",
    "        \"URL Count\": [total_urls],\n",
    "        \"Special Char Count\": [total_special_chars],\n",
    "        \"Word Count\": [total_words],\n",
    "        \"Sentence Count\": [total_sentences],\n",
    "    }\n",
    ")\n",
    "newline_counts_df = pd.concat([totals_row, newline_counts_df], ignore_index=True)\n",
    "\n",
    "# Add total emails count as the first row\n",
    "# newline_counts_df.at[0, \"text\"] = f\"Total Emails: {total_emails}\"\n",
    "\n",
    "newline_counts_df.head()  # Display the first few rows to verify"
   ]
  },
  {
   "cell_type": "code",
   "execution_count": null,
   "metadata": {},
   "outputs": [],
   "source": [
    "tim_sent_emails_df = emails_df[\n",
    "        emails_df[\"from\"].str.contains(r\"tim.belden@enron.com\", regex=True, na=False)\n",
    "]\n",
    "\n",
    "tim_sent_emails_df['to'] = tim_sent_emails_df['to'].str.split(',')\n",
    "tim_sent_emails_df = tim_sent_emails_df.explode('to').reset_index(drop=True)\n",
    "tim_sent_emails_df = tim_sent_emails_df.drop_duplicates(subset=['to']).reset_index(drop=True)\n",
    "\n",
    "# Create graph\n",
    "G = nx.from_pandas_edgelist(tim_sent_emails_df, 'to', 'from', edge_attr=['date', 'subject'])\n",
    "\n",
    "# Plot using ArcPlot\n",
    "plot = nv.ArcPlot(G)\n",
    "plt.figure(figsize=(20, 20))\n",
    "\n",
    "# Use a different layout to reduce overlap\n",
    "pos = nx.spring_layout(G, k=0.3, iterations=50)\n",
    "\n",
    "# Draw the graph\n",
    "nx.draw_networkx(\n",
    "    G, pos, node_size=50, node_color='red', with_labels=True, edge_color='blue', font_size=8\n",
    ")\n",
    "plt.title(\"Tim Belden Sent Emails\")\n",
    "\n",
    "# Show plot\n",
    "plt.show()"
   ]
  },
  {
   "cell_type": "code",
   "execution_count": null,
   "metadata": {},
   "outputs": [],
   "source": [
    "tim_received_emails_df = emails_df[\n",
    "        emails_df[\"to\"].str.contains(r\"tim.belden@enron.com\", regex=True, na=False)\n",
    "]\n",
    "\n",
    "tim_received_emails_df['to'] = tim_received_emails_df['to'].str.split(',')\n",
    "tim_received_emails_df = tim_received_emails_df.explode('to').reset_index(drop=True)\n",
    "tim_received_emails_df = tim_received_emails_df.drop_duplicates(subset=['from']).reset_index(drop=True)\n",
    "tim_received_emails_df = tim_received_emails_df.drop_duplicates(subset=['to']).reset_index(drop=True)\n",
    "tim_received_emails_df['to'] = 'tim.belden@enron.com'\n",
    "# Create graph\n",
    "G = nx.from_pandas_edgelist(tim_received_emails_df, 'to', 'from', edge_attr=['date', 'subject'])\n",
    "\n",
    "# Plot using ArcPlot\n",
    "plot = nv.ArcPlot(G)\n",
    "plt.figure(figsize=(20, 20))\n",
    "\n",
    "# Use a different layout to reduce overlap\n",
    "pos = nx.spring_layout(G, k=0.3, iterations=50)\n",
    "\n",
    "# Draw the graph\n",
    "nx.draw_networkx(\n",
    "    G, pos, node_size=50, node_color='red', with_labels=True, edge_color='blue', font_size=8\n",
    ")\n",
    "plt.title(\"Tim Belden Received Emails\")\n",
    "\n",
    "# Show plot\n",
    "plt.show()"
   ]
  },
  {
   "cell_type": "code",
   "execution_count": null,
   "metadata": {},
   "outputs": [],
   "source": [
    "tim_emails_recipients_df = emails_df[\n",
    "        emails_df[\"from\"].str.contains(r\"tim.belden@enron.com\", regex=True, na=False)\n",
    "]\n",
    "\n",
    "tim_emails_recipients_df['to'] = tim_emails_recipients_df['to'].str.split(',')\n",
    "tim_emails_recipients_df = tim_emails_recipients_df.explode('to').reset_index(drop=True)\n",
    "\n",
    "tim_emails_recipients_df = pd.DataFrame(tim_emails_recipients_df['to'].value_counts()).iloc[:30, :]\n",
    "\n",
    "#plt.figure(figsize=(20, 40))\n",
    "\n",
    "# Color palette\n",
    "palette = sns.color_palette(\"hls\", len(tim_emails_recipients_df))\n",
    "\n",
    "ax = sns.barplot(\n",
    "    x=\"count\", y='to', data=tim_emails_recipients_df, \n",
    "    palette=palette, zorder=2\n",
    ")\n",
    "\n",
    "plt.title(f\"EMAIL RECIPIENTS OF TIM BELDEN\", fontsize=14, fontweight=\"bold\")\n",
    "plt.xlabel(\"Number of Emails\")\n",
    "plt.ylabel(\"Recipients Name\")\n",
    "\n",
    "# Adjust font size of y-axis tick labels\n",
    "ax.tick_params(axis=\"y\", labelsize=8)\n",
    "\n",
    "# Adding text labels\n",
    "for container in ax.containers:\n",
    "    ax.bar_label(container, fmt = \"%.0f\", label_type=\"edge\", padding=-25, \n",
    "                 fontsize = 8, fontweight=\"bold\", zorder = 3)\n"
   ]
  },
  {
   "cell_type": "code",
   "execution_count": null,
   "metadata": {},
   "outputs": [],
   "source": [
    "Portland_email_senders_df = emails_df[\n",
    "        emails_df[\"to\"].str.contains(r\"portland\", regex=True, na=False)\n",
    "]\n",
    "\n",
    "\n",
    "\n",
    "Portland_email_senders_df['to'] = Portland_email_senders_df['to'].str.split(',')\n",
    "Portland_email_senders_df = Portland_email_senders_df.explode('to').reset_index(drop=True)\n",
    "\n",
    "Portland_email_senders_df = Portland_email_senders_df[\n",
    "        ~Portland_email_senders_df[\"to\"].str.contains(r\"portland\", regex=True, na=False)\n",
    "]\n",
    "\n",
    "Portland_email_senders_df = pd.DataFrame(Portland_email_senders_df['to'].value_counts()).iloc[:30, :]\n",
    "\n",
    "#plt.figure(figsize=(20, 40))\n",
    "\n",
    "# Color palette\n",
    "palette = sns.color_palette(\"hls\", len(Portland_email_senders_df))\n",
    "\n",
    "ax = sns.barplot(\n",
    "    x=\"count\", y='to', data=Portland_email_senders_df, \n",
    "    palette=palette, zorder=2\n",
    ")\n",
    "\n",
    "plt.title(f\"INDIVIDUAL EMAILS TO PORTLAND OFFICE LISTSERVS\", fontsize=14, fontweight=\"bold\")\n",
    "plt.xlabel(\"Number of Emails\")\n",
    "plt.ylabel(\"Sender Name\")\n",
    "\n",
    "# Adjust font size of y-axis tick labels\n",
    "ax.tick_params(axis=\"y\", labelsize=8)\n",
    "\n",
    "# Adding text labels\n",
    "for container in ax.containers:\n",
    "    ax.bar_label(container, fmt = \"%.0f\", label_type=\"edge\", padding=-25, \n",
    "                 fontsize = 8, fontweight=\"bold\", zorder = 3)"
   ]
  }
 ],
 "metadata": {
  "language_info": {
   "name": "python"
  }
 },
 "nbformat": 4,
 "nbformat_minor": 2
}
