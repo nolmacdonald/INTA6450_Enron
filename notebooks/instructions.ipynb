{
 "cells": [
  {
   "cell_type": "markdown",
   "metadata": {},
   "source": [
    "# Enron Project Instructions"
   ]
  },
  {
   "cell_type": "markdown",
   "metadata": {},
   "source": [
    "In this portion of the project, you will actually implement a strategy to detect wrongdoing. \n",
    "You will start with several distinct proposals, \n",
    "so your group will work to harmonize them and come up with a single approach to implement as a group."
   ]
  },
  {
   "cell_type": "markdown",
   "metadata": {},
   "source": [
    "## Data\n",
    "\n",
    "The Enron email dataset was released by FERC as part of their investigations into a number of executives. \n",
    "A dated description of the dataset is available here: [https://en.wikipedia.org/wiki/Enron_Corpus](https://en.wikipedia.org/wiki/Enron_Corpus)\n",
    "You MAY approach this project with any version of the data set that you find online and find convenient. \n",
    "However, see the course [data access page](https://gatech.instructure.com/courses/402332/pages/data-access) \n",
    "for a hosted Elasticsearch server with accompanying example queries that can get you started. \n",
    "\n",
    "From the [data access page](https://gatech.instructure.com/courses/402332/pages/data-access), the Enron email is hosted on [Elasticsearch](https://www.elastic.co/elasticsearch/). The [Elasticsearch Host](http://18.188.56.207:9200/) is located at `18.188.56.207:9200`. To use queries in Elasticsearch, refer to [Elasticsearch Full Query DSL (Domain Specific Language)](https://www.elastic.co/guide/en/elasticsearch/reference/current/query-dsl.html).\n",
    "\n",
    "The Enron Corpus has been provided by the course instructor in a zipped file\n",
    "at [Enron Email Data Base (GT)](https://s3.amazonaws.com/inta.gatech/inta6450-emails.zip)."
   ]
  },
  {
   "cell_type": "markdown",
   "metadata": {},
   "source": [
    "## Goal\n",
    "\n",
    "The goal of the project is to implement some kind of approach to filter through emails to identify the ones that are associated with your specific form of wrongdoing. You may choose to use methods from the course if you like but you do not need to. The most important part of a good project is that you have a clear type of wrongdoing laid out and that you can show that your methods do as good a job as possible at leading to emails that show your type of wrongdoing. The result of this project should be your identified emails that match your pattern and constitute evidence of your defined wrongdoing. You will be assessed on your ability to implement your project as well as how well your approach is appropriate for your definition of wrongdoing. "
   ]
  },
  {
   "cell_type": "markdown",
   "metadata": {},
   "source": [
    "## Process\n",
    "\n",
    "1. You will be placed in a small group of four.  You may form your own groups if you like, but we will send out a survey early in the class to help make sure groups have people of different academic backgrounds but similar timezones.\n",
    "\n",
    "2. Within your group, implement a strategy. It might or might not be the same as one of the strategies outlined in your individual Part 1 proposal. You may use the Python notebook at [data access page] as a start.\n",
    "\n",
    "3. Find Top 5 emails representing signs of “wrongdoing”. It doesn't have to be exactly 5, but it almost certainly shouldn't be 50 and definitely shouldn't be 500!\n",
    "\n",
    "4. Document how your strategy got your results. \n",
    "\n",
    "5. Write a 10 to 30-page paper, including appendixes/emails, that articulates the group’s wrongdoing target. The target doesn’t have to be the same as your proposal. The large range here is so that it can be OK to include differing amounts of long chunks of code or charts or email texts depending on your particular project choices.\n",
    "    - Start with your definition of wrongdoing \n",
    "    - Indicate the strategy you used to find emails \n",
    "    - What is your set of emails that indicated wrongdoing?  \n",
    "    - Was your set of emails good? Why or why not? \n",
    "    - What problems would you fix next time? \n",
    "    - What problems are unfixable about this approach? \n",
    "\n",
    "6. Assign one member of your group to submit the assignment to the appropriate section in Canvas."
   ]
  },
  {
   "cell_type": "markdown",
   "metadata": {},
   "source": [
    "## Rubric\n",
    "\n",
    "| Criteria | Excellent (7.5 pts) | Good<br>  (3.75 pts) | Average (2.5 pts) | Below Avg.<br> (0 pts) | Pts |\n",
    "|----------|-------------------|----------------|-----------------|-------------------|-----|\n",
    "| Mechanics | No grammatical, spelling or punctuation errors. | Almost no grammatical, spelling or punctuation errors. | A few grammatical, spelling, or punctuation errors. | Many grammatical, spelling, or punctuation errors. | 7.5 |\n",
    "| Completeness of Information | The paper included all required elements. | The paper included almost all the required elements. | The paper included most of the required elements. | The paper was missing many required elements. | 7.5 |\n",
    "| Quality of Information | Your definition of wrongdoing is clear, logical, and practical. You have indicated the signs you are looking for to find relevant emails. You have implemented these strategies in Python or another computing framework. There is clear and insightful reflection on your chosen methods and their challenges. Example emails found are included and fit closely with your definition of wrongdoing. | You define wrongdoing with some clarity. You have indicated the signs of large groups of emails that you will read over. You have implemented these strategies in Python or another computing framework. There is reflection on your chosen methods and their challenges. Example emails found are included and are related to your definition of wrongdoing. | You define wrongdoing but there is ambiguity in your definition. Your signs of wrongdoing are coarse and implicate large numbers of emails about a range of topics. You have implemented these strategies in Python or another computing framework. There is reflection on your chosen methods and their challenges. Example emails found are included and are not strongly related to your definition of wrongdoing. | Definition of wrongdoing missing or very ambiguous. Signs of wrongdoing, implementation in any framework, and reflections are weak or missing. | 7.5 |\n",
    "| Sequencing of Information | Information is organized in a clear, logical way. | Most information is organized in a clear, logical way. | Some information is logically sequenced. | There is no clear plan for the organization of information. | 7.5 |\n",
    "| | | | | **Total Points:** | 30 |"
   ]
  }
 ],
 "metadata": {
  "language_info": {
   "name": "python"
  }
 },
 "nbformat": 4,
 "nbformat_minor": 2
}
