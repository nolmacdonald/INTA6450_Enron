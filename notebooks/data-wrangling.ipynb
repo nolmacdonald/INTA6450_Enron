{
 "cells": [
  {
   "cell_type": "markdown",
   "metadata": {},
   "source": [
    "# NLP Topic Modeling\n",
    "\n",
    "**AUTHOR:** Nolan MacDonald\n",
    "\n",
    "**DATE OF LAST SIGNIFICANT UPDATE:** 2024-NOV-02\n",
    "\n",
    "**DESCRIPTION:** Enron Corpus Natural Language Processing (NLP) topic modeling\n",
    "\n",
    "**GITHUB ISSUE #2:** https://github.com/nolmacdonald/INTA6450_Enron/issues/2"
   ]
  },
  {
   "cell_type": "markdown",
   "metadata": {},
   "source": [
    "## Overview\n",
    "\n",
    "\n"
   ]
  },
  {
   "cell_type": "markdown",
   "metadata": {},
   "source": [
    "Data wrangling or parsing data needs to be performed to obtain a data set in the appropriate state for different models."
   ]
  },
  {
   "cell_type": "markdown",
   "metadata": {},
   "source": [
    "# Testing Data"
   ]
  },
  {
   "cell_type": "markdown",
   "metadata": {},
   "source": [
    "- json file: text, headers, subject, messageId, priority, from, to, cc, bcc, date"
   ]
  },
  {
   "cell_type": "code",
   "execution_count": 9,
   "metadata": {},
   "outputs": [
    {
     "name": "stdout",
     "output_type": "stream",
     "text": [
      "/Users/nmacdonald/projects/INTA6450_Enron/notebooks\n"
     ]
    }
   ],
   "source": [
    "import os\n",
    "import json\n",
    "import pandas as pd\n",
    "\n",
    "# Get the current working directory\n",
    "cwd = os.getcwd()\n",
    "print(cwd)"
   ]
  },
  {
   "cell_type": "code",
   "execution_count": 10,
   "metadata": {},
   "outputs": [],
   "source": [
    "# Load emails csv ONLY - takes forever\n",
    "emails_df = pd.read_csv(\"../emails.csv\")"
   ]
  },
  {
   "cell_type": "markdown",
   "metadata": {},
   "source": [
    "## Data Columns\n",
    "\n",
    "- Look at the data for each column (first row)"
   ]
  },
  {
   "cell_type": "code",
   "execution_count": 41,
   "metadata": {},
   "outputs": [
    {
     "name": "stdout",
     "output_type": "stream",
     "text": [
      "Column names: Index(['file', 'message'], dtype='object')\n",
      "\n",
      "First row, first column:\n",
      "allen-p/_sent_mail/1.\n",
      "\n",
      "First row, second column:\n",
      " Message-ID: <18782981.1075855378110.JavaMail.evans@thyme>\n",
      "Date: Mon, 14 May 2001 16:39:00 -0700 (PDT)\n",
      "From: phillip.allen@enron.com\n",
      "To: tim.belden@enron.com\n",
      "Subject: \n",
      "Mime-Version: 1.0\n",
      "Content-Type: text/plain; charset=us-ascii\n",
      "Content-Transfer-Encoding: 7bit\n",
      "X-From: Phillip K Allen\n",
      "X-To: Tim Belden <Tim Belden/Enron@EnronXGate>\n",
      "X-cc: \n",
      "X-bcc: \n",
      "X-Folder: \\Phillip_Allen_Jan2002_1\\Allen, Phillip K.\\'Sent Mail\n",
      "X-Origin: Allen-P\n",
      "X-FileName: pallen (Non-Privileged).pst\n",
      "\n",
      "Here is our forecast\n",
      "\n",
      " \n",
      "\n",
      "11697 row, first column:\n",
      "bass-e/all_documents/1310.\n"
     ]
    }
   ],
   "source": [
    "# Column names: Index(['file', 'message'], dtype='object')\n",
    "# Print the column names\n",
    "print(\"Column names:\", emails_df.columns)\n",
    "\n",
    "# Print the first row of the first column\n",
    "print(f\"\\nFirst row, first column:\\n{emails_df.iloc[0, 0]}\")\n",
    "\n",
    "# Print the first row of the second column\n",
    "print(\"\\nFirst row, second column:\\n\", emails_df.iloc[0, 1])\n",
    "\n",
    "print(f\"\\n11697 row, first column:\\n{emails_df.iloc[11696, 0]}\")"
   ]
  },
  {
   "cell_type": "code",
   "execution_count": 15,
   "metadata": {},
   "outputs": [
    {
     "name": "stdout",
     "output_type": "stream",
     "text": [
      "Message-ID: <18782981.1075855378110.JavaMail.evans@thyme>\n",
      "Date: Mon, 14 May 2001 16:39:00 -0700 (PDT)\n",
      "From: phillip.allen@enron.com\n",
      "To: tim.belden@enron.com\n",
      "Subject: \n",
      "Mime-Version: 1.0\n",
      "Content-Type: text/plain; charset=us-ascii\n",
      "Content-Transfer-Encoding: 7bit\n",
      "X-From: Phillip K Allen\n",
      "X-To: Tim Belden <Tim Belden/Enron@EnronXGate>\n",
      "X-cc: \n",
      "X-bcc: \n",
      "X-Folder: \\Phillip_Allen_Jan2002_1\\Allen, Phillip K.\\'Sent Mail\n",
      "X-Origin: Allen-P\n",
      "X-FileName: pallen (Non-Privileged).pst\n",
      "\n",
      "Here is our forecast\n",
      "\n",
      " \n"
     ]
    }
   ],
   "source": [
    "# Alternative way to print the first row of the second column\n",
    "print(emails_df[\"message\"].iloc[0])"
   ]
  },
  {
   "cell_type": "markdown",
   "metadata": {},
   "source": [
    "# Individual Email\n",
    "\n",
    "- Open a single email"
   ]
  },
  {
   "cell_type": "markdown",
   "metadata": {},
   "source": [
    "Lots of info in headers\n",
    "\n",
    "Might be useful:\n",
    "- `message-id`: Message identifier \n",
    "- `from`: Sender email\n",
    "- `to`: Recipient email\n",
    "- `cc`: CC'd recipient emails (separated by comma)\n",
    "- `bcc`: BCC'd recipient emails\n",
    "- `x-from`: Sender name\n",
    "- `x-to`: Recipient name\n",
    "- `x-cc`: CC'd recipient names\n",
    "- `x-bcc`: BCC'd recipient names\n",
    "- `subject`\n",
    "\n",
    "Not so useful:\n",
    "- `mime_version`: 1.0\n",
    "- `content-type`: text/plain; `charset`=us-ascii\n",
    "- `content-transfer-encoding`: 7bit\n",
    "- `x-folder`: Email folder\n",
    "- `x-origin`: Who provided the email?\n",
    "- `x-filename`: File name\n",
    "\n",
    "`data[\"subject\"]` and `data[\"headers\"][\"subject\"]` return the same thing.\n",
    "\n",
    "The remaining `data.keys()` include the entries below with example values.\n",
    "```\n",
    "data[\"subject\"]: Compagnie de Papiers Stadacona\n",
    "data[\"messageId\"]: 18639077.1075844798592.JavaMail.evans@thyme\n",
    "data[\"priority\"]: normal\n",
    "data[\"from\"]: [{'address': 'susan.bailey@enron.com', 'name': ''}]\n",
    "data[\"to\"]: [{'address': 'jeff.blumenthal@enron.com', 'name': ''}]\n",
    "data[\"cc\"]: [{'address': 'sara.shackleton@enron.com', 'name': ''}, {'address': 'laurel.adams@enron.com', 'name': ''}]\n",
    "data[\"bcc\"]: [{'address': 'sara.shackleton@enron.com', 'name': ''}, {'address': 'laurel.adams@enron.com', 'name': ''}]\n",
    "data[\"date\"]: 2001-04-25T18:42:00.000Z\n",
    "```\n",
    "\n",
    "Same:\n",
    "- `data[\"subject\"]` and `data[\"headers\"][\"subject\"]`: Same\n",
    "- `data[\"messageID\"]` and `data[\"headers\"][\"message-id\"]`\n",
    "    - `data[\"headers\"][\"message-id\"]`: Same but wrapped in `<message-id>`\n",
    "\n",
    "Nested Lists:\n",
    "- `data[\"from\"]` and `data[\"headers\"][\"from\"]`\n",
    "    - `data[\"from\"]` is nested list with \"address\" and \"name\" (blank)\n",
    "- `data[\"to\"]` and `data[\"headers\"][\"to\"]`\n",
    "    - `data[\"to\"]` is nested list with \"address\" and \"name\" (blank)\n",
    "- `data[\"cc\"]` and `data[\"headers\"][\"cc\"]`\n",
    "    - `data[\"cc\"]` is nested list with \"address\" and \"name\" (blank)\n",
    "- `data[\"bcc\"]` and `data[\"headers\"][\"bcc\"]`\n",
    "    - `data[\"bcc\"]` is nested list with \"address\" and \"name\" (blank)\n",
    "\n",
    "Different:\n",
    "- `data[\"date\"]` and `data[\"headers\"][\"date\"]` different formats\n",
    "    - `data[\"date\"]`: 2001-04-25T18:42:00.000Z\n",
    "    - `data[\"headers\"][\"date\"]`: Wed, 25 Apr 2001 11:42:00 -0700 (PDT)"
   ]
  },
  {
   "cell_type": "markdown",
   "metadata": {},
   "source": [
    "## Import File"
   ]
  },
  {
   "cell_type": "code",
   "execution_count": 43,
   "metadata": {},
   "outputs": [
    {
     "name": "stdout",
     "output_type": "stream",
     "text": [
      "{'text': 'Jeff,\\n\\nSara has asked me to follow-up regarding the captioned Enron Affiliate and \\nthe need to confirm a trade.\\n\\nBeing that this Enron affiliate does not appear in the Corporate Database I \\nwas hoping  you could furnish details regarding this Enron Affiliate, as \\nfollows:\\n\\n1. When was the company incorporated??? \\n2. Where was it incorporated???\\n3 Or did we acquire an existing company by virtue of an acquisition???\\n4. What is the date of the FX trade, for which this Enron Affiliate is a \\nparty???\\n5. If this is a newly formed Enron Affiliate was the date of the FX trade \\ndated simultaneous with the company\\'s incorporation???\\n6. For notice purposes under the ISDA -- would we use the following??? \\n    \\n    Bay Wellington Tower - BCE Place\\n    181 Bay Street, Suite 1540\\n    Toronto, Ontario M5J 2T3\\n7. If the foregoing address for notice is sufficient -- please advise as to: \\n(a)  whom\\'s attention, (b) phone number, and (c) fax number.\\n\\nIn discussing this matter with Sara, we have determined it would be a cleaner \\ntransaction if the FX trade could be confirmed under an RMT master rather \\nthan doing a Deemed ISDA confirmation.  Therefore, once you furnish the \\nforegoing information Sara and I will be able to decide what path to take in \\norder to consummate this FX trade.\\n\\nThanks for the help.\\n\\n\\nCordially,\\nSusan S. Bailey\\nEnron North America Corp.\\n1400 Smith Street, Suite 3806A\\nHouston, Texas 77002\\nPhone: (713) 853-4737\\nFax: (713) 646-3490\\nE:mail:  Susan.Bailey@enron.com\\n----- Forwarded by Susan Bailey/HOU/ECT on 04/25/2001 06:22 PM -----\\n\\n\\tSara Shackleton\\n\\t04/25/2001 01:55 PM\\n\\t\\t \\n\\t\\t To: Susan Bailey/HOU/ECT@ECT\\n\\t\\t cc: \\n\\t\\t Subject: Deemed ISDA\\n\\nSusan:\\n\\nLaurel Adams has an FX deal where RMT must be a party.  The counterparty is a \\n100% owned Enron sub named \"Compagnie de Papiers Stadacona\".  When I last \\nchecked, nothing shows up in the corporate database.  However, I have \\nverified the name, ownership, etc.  with Jeff Blumenthal.  I will separately \\nemail you the counterparty info that I have.\\n\\nWe need a deemed ISDA for the parties.  We should later do the ISDA when the \\ninformation is available on the database (which could be any day, I \\nsuppose).  I would just use our standard RMT format.\\n\\nPlease assign.  Feel free to call me or Laurel with questions.  Thanks.\\n\\n\\nSara Shackleton\\nEnron North America Corp.\\n1400 Smith Street, EB 3801a\\nHouston, Texas  77002\\n713-853-5620 (phone)\\n713-646-3490 (fax)\\nsara.shackleton@enron.com', 'headers': {'message-id': '<18639077.1075844798592.JavaMail.evans@thyme>', 'date': 'Wed, 25 Apr 2001 11:42:00 -0700 (PDT)', 'from': 'susan.bailey@enron.com', 'to': 'jeff.blumenthal@enron.com', 'subject': 'Compagnie de Papiers Stadacona', 'cc': 'sara.shackleton@enron.com, laurel.adams@enron.com', 'mime-version': '1.0', 'content-type': 'text/plain; charset=us-ascii', 'content-transfer-encoding': '7bit', 'bcc': 'sara.shackleton@enron.com, laurel.adams@enron.com', 'x-from': 'Susan Bailey', 'x-to': 'Jeff Blumenthal', 'x-cc': 'Sara Shackleton, Laurel Adams', 'x-bcc': '', 'x-folder': '\\\\Sara_Shackleton_Dec2000_June2001_2\\\\Notes Folders\\\\Notes inbox', 'x-origin': 'SHACKLETON-S', 'x-filename': 'sshackle.nsf'}, 'subject': 'Compagnie de Papiers Stadacona', 'messageId': '18639077.1075844798592.JavaMail.evans@thyme', 'priority': 'normal', 'from': [{'address': 'susan.bailey@enron.com', 'name': ''}], 'to': [{'address': 'jeff.blumenthal@enron.com', 'name': ''}], 'cc': [{'address': 'sara.shackleton@enron.com', 'name': ''}, {'address': 'laurel.adams@enron.com', 'name': ''}], 'bcc': [{'address': 'sara.shackleton@enron.com', 'name': ''}, {'address': 'laurel.adams@enron.com', 'name': ''}], 'date': '2001-04-25T18:42:00.000Z'}\n"
     ]
    },
    {
     "data": {
      "text/plain": [
       "dict_keys(['text', 'headers', 'subject', 'messageId', 'priority', 'from', 'to', 'cc', 'bcc', 'date'])"
      ]
     },
     "execution_count": 43,
     "metadata": {},
     "output_type": "execute_result"
    }
   ],
   "source": [
    "# Load the JSON file\n",
    "with open(\"../data/0a0a0a98bade637d3c593c0db8e1e3f7.json\", \"r\") as file:\n",
    "    data = json.load(file)\n",
    "\n",
    "# Print the data to verify\n",
    "print(data)\n",
    "\n",
    "data.keys()"
   ]
  },
  {
   "cell_type": "markdown",
   "metadata": {},
   "source": [
    "## Text"
   ]
  },
  {
   "cell_type": "code",
   "execution_count": 34,
   "metadata": {},
   "outputs": [
    {
     "name": "stdout",
     "output_type": "stream",
     "text": [
      "Jeff,\n",
      "\n",
      "Sara has asked me to follow-up regarding the captioned Enron Affiliate and \n",
      "the need to confirm a trade.\n",
      "\n",
      "Being that this Enron affiliate does not appear in the Corporate Database I \n",
      "was hoping  you could furnish details regarding this Enron Affiliate, as \n",
      "follows:\n",
      "\n",
      "1. When was the company incorporated??? \n",
      "2. Where was it incorporated???\n",
      "3 Or did we acquire an existing company by virtue of an acquisition???\n",
      "4. What is the date of the FX trade, for which this Enron Affiliate is a \n",
      "party???\n",
      "5. If this is a newly formed Enron Affiliate was the date of the FX trade \n",
      "dated simultaneous with the company's incorporation???\n",
      "6. For notice purposes under the ISDA -- would we use the following??? \n",
      "    \n",
      "    Bay Wellington Tower - BCE Place\n",
      "    181 Bay Street, Suite 1540\n",
      "    Toronto, Ontario M5J 2T3\n",
      "7. If the foregoing address for notice is sufficient -- please advise as to: \n",
      "(a)  whom's attention, (b) phone number, and (c) fax number.\n",
      "\n",
      "In discussing this matter with Sara, we have determined it would be a cleaner \n",
      "transaction if the FX trade could be confirmed under an RMT master rather \n",
      "than doing a Deemed ISDA confirmation.  Therefore, once you furnish the \n",
      "foregoing information Sara and I will be able to decide what path to take in \n",
      "order to consummate this FX trade.\n",
      "\n",
      "Thanks for the help.\n",
      "\n",
      "\n",
      "Cordially,\n",
      "Susan S. Bailey\n",
      "Enron North America Corp.\n",
      "1400 Smith Street, Suite 3806A\n",
      "Houston, Texas 77002\n",
      "Phone: (713) 853-4737\n",
      "Fax: (713) 646-3490\n",
      "E:mail:  Susan.Bailey@enron.com\n",
      "----- Forwarded by Susan Bailey/HOU/ECT on 04/25/2001 06:22 PM -----\n",
      "\n",
      "\tSara Shackleton\n",
      "\t04/25/2001 01:55 PM\n",
      "\t\t \n",
      "\t\t To: Susan Bailey/HOU/ECT@ECT\n",
      "\t\t cc: \n",
      "\t\t Subject: Deemed ISDA\n",
      "\n",
      "Susan:\n",
      "\n",
      "Laurel Adams has an FX deal where RMT must be a party.  The counterparty is a \n",
      "100% owned Enron sub named \"Compagnie de Papiers Stadacona\".  When I last \n",
      "checked, nothing shows up in the corporate database.  However, I have \n",
      "verified the name, ownership, etc.  with Jeff Blumenthal.  I will separately \n",
      "email you the counterparty info that I have.\n",
      "\n",
      "We need a deemed ISDA for the parties.  We should later do the ISDA when the \n",
      "information is available on the database (which could be any day, I \n",
      "suppose).  I would just use our standard RMT format.\n",
      "\n",
      "Please assign.  Feel free to call me or Laurel with questions.  Thanks.\n",
      "\n",
      "\n",
      "Sara Shackleton\n",
      "Enron North America Corp.\n",
      "1400 Smith Street, EB 3801a\n",
      "Houston, Texas  77002\n",
      "713-853-5620 (phone)\n",
      "713-646-3490 (fax)\n",
      "sara.shackleton@enron.com\n"
     ]
    }
   ],
   "source": [
    "print(data[\"text\"])"
   ]
  },
  {
   "cell_type": "markdown",
   "metadata": {},
   "source": [
    "## Headers\n",
    "\n",
    "Lots of info in headers\n",
    "\n",
    "Might be useful:\n",
    "- `message-id`: Message identifier \n",
    "- `from`: Sender email\n",
    "- `to`: Recipient email\n",
    "- `cc`: CC'd recipient emails (separated by comma)\n",
    "- `bcc`: BCC'd recipient emails\n",
    "- `x-from`: Sender name\n",
    "- `x-to`: Recipient name\n",
    "- `x-cc`: CC'd recipient names\n",
    "- `x-bcc`: BCC'd recipient names\n",
    "- `subject`\n",
    "\n",
    "Not so useful:\n",
    "- `mime_version`: 1.0\n",
    "- `content-type`: text/plain; `charset`=us-ascii\n",
    "- `content-transfer-encoding`: 7bit\n",
    "- `x-folder`: Email folder\n",
    "- `x-origin`: Who provided the email?\n",
    "- `x-filename`: File name\n"
   ]
  },
  {
   "cell_type": "code",
   "execution_count": 29,
   "metadata": {},
   "outputs": [
    {
     "name": "stdout",
     "output_type": "stream",
     "text": [
      "Keys in headers column: 17\n",
      "\n",
      "Key names in headers column:\n",
      "dict_keys(['message-id', 'date', 'from', 'to', 'subject', 'cc', 'mime-version', 'content-type', 'content-transfer-encoding', 'bcc', 'x-from', 'x-to', 'x-cc', 'x-bcc', 'x-folder', 'x-origin', 'x-filename'])\n"
     ]
    }
   ],
   "source": [
    "keys_headers = data[\"headers\"].keys()\n",
    "print(\n",
    "    f\"Keys in headers column: {len(keys_headers)}\\n\\nKey names in headers column:\\n{keys_headers}\"\n",
    ")\n",
    "\n",
    "# dict_keys(['message-id', 'date', 'from', 'to', 'subject', 'cc', 'mime-version',\n",
    "# 'content-type', 'content-transfer-encoding', 'bcc',\n",
    "# 'x-from', 'x-to', 'x-cc', 'x-bcc', 'x-folder', 'x-origin', 'x-filename'])"
   ]
  },
  {
   "cell_type": "code",
   "execution_count": 30,
   "metadata": {},
   "outputs": [
    {
     "name": "stdout",
     "output_type": "stream",
     "text": [
      "message-id: <18639077.1075844798592.JavaMail.evans@thyme>\n",
      "date: Wed, 25 Apr 2001 11:42:00 -0700 (PDT)\n",
      "from: susan.bailey@enron.com\n",
      "to: jeff.blumenthal@enron.com\n",
      "subject: Compagnie de Papiers Stadacona\n",
      "cc: sara.shackleton@enron.com, laurel.adams@enron.com\n",
      "mime-version: 1.0\n",
      "content-type: text/plain; charset=us-ascii\n",
      "content-transfer-encoding: 7bit\n",
      "bcc: sara.shackleton@enron.com, laurel.adams@enron.com\n",
      "x-from: Susan Bailey\n",
      "x-to: Jeff Blumenthal\n",
      "x-cc: Sara Shackleton, Laurel Adams\n",
      "x-bcc: \n",
      "x-folder: \\Sara_Shackleton_Dec2000_June2001_2\\Notes Folders\\Notes inbox\n",
      "x-origin: SHACKLETON-S\n",
      "x-filename: sshackle.nsf\n"
     ]
    }
   ],
   "source": [
    "# Who sent the email?\n",
    "data[\"headers\"][\"from\"]\n",
    "print(f\"message-id: {data['headers']['message-id']}\")\n",
    "print(f\"date: {data['headers']['date']}\")\n",
    "print(f\"from: {data['headers']['from']}\")\n",
    "print(f\"to: {data['headers']['to']}\")\n",
    "print(f\"subject: {data['headers']['subject']}\")\n",
    "print(f\"cc: {data['headers']['cc']}\")\n",
    "print(f\"mime-version: {data['headers']['mime-version']}\")\n",
    "print(f\"content-type: {data['headers']['content-type']}\")\n",
    "print(f\"content-transfer-encoding: {data['headers']['content-transfer-encoding']}\")\n",
    "print(f\"bcc: {data['headers']['bcc']}\")\n",
    "print(f\"x-from: {data['headers']['x-from']}\")\n",
    "print(f\"x-to: {data['headers']['x-to']}\")\n",
    "print(f\"x-cc: {data['headers']['x-cc']}\")\n",
    "print(f\"x-bcc: {data['headers']['x-bcc']}\")\n",
    "print(f\"x-folder: {data['headers']['x-folder']}\")\n",
    "print(f\"x-origin: {data['headers']['x-origin']}\")\n",
    "print(f\"x-filename: {data['headers']['x-filename']}\")"
   ]
  },
  {
   "cell_type": "markdown",
   "metadata": {},
   "source": [
    "## Remaining Keys"
   ]
  },
  {
   "cell_type": "code",
   "execution_count": 33,
   "metadata": {},
   "outputs": [
    {
     "name": "stdout",
     "output_type": "stream",
     "text": [
      "data[\"subject\"]: Compagnie de Papiers Stadacona\n",
      "data[\"messageId\"]: 18639077.1075844798592.JavaMail.evans@thyme\n",
      "data[\"priority\"]: normal\n",
      "data[\"from\"]: [{'address': 'susan.bailey@enron.com', 'name': ''}]\n",
      "data[\"to\"]: [{'address': 'jeff.blumenthal@enron.com', 'name': ''}]\n",
      "data[\"cc\"]: [{'address': 'sara.shackleton@enron.com', 'name': ''}, {'address': 'laurel.adams@enron.com', 'name': ''}]\n",
      "data[\"bcc\"]: [{'address': 'sara.shackleton@enron.com', 'name': ''}, {'address': 'laurel.adams@enron.com', 'name': ''}]\n",
      "data[\"date\"]: 2001-04-25T18:42:00.000Z\n"
     ]
    }
   ],
   "source": [
    "print(f'data[\"subject\"]: {data[\"subject\"]}')\n",
    "print(f'data[\"messageId\"]: {data[\"messageId\"]}')\n",
    "print(f'data[\"priority\"]: {data[\"priority\"]}')\n",
    "print(f'data[\"from\"]: {data[\"from\"]}')\n",
    "print(f'data[\"to\"]: {data[\"to\"]}')\n",
    "print(f'data[\"cc\"]: {data[\"cc\"]}')\n",
    "print(f'data[\"bcc\"]: {data[\"bcc\"]}')\n",
    "print(f'data[\"date\"]: {data[\"date\"]}')"
   ]
  },
  {
   "cell_type": "markdown",
   "metadata": {},
   "source": [
    "# Approach"
   ]
  },
  {
   "cell_type": "markdown",
   "metadata": {},
   "source": [
    "- Store like `emails.csv`\n",
    "    - 517401 rows of data, nearly stored like CMU\n",
    "    - first column `file`, second column `message`\n",
    "    - `file`: 11697 row, first column `bass-e/all_documents/1310.`\n",
    "        - Similar to how CMU stores the file there\n",
    "    - `message`: A lot more data\n",
    "\n",
    "Output from `emails_df[\"message\"].iloc[0]`:\n",
    "```\n",
    "Message-ID: <18782981.1075855378110.JavaMail.evans@thyme>\n",
    "Date: Mon, 14 May 2001 16:39:00 -0700 (PDT)\n",
    "From: phillip.allen@enron.com\n",
    "To: tim.belden@enron.com\n",
    "Subject: \n",
    "Mime-Version: 1.0\n",
    "Content-Type: text/plain; charset=us-ascii\n",
    "Content-Transfer-Encoding: 7bit\n",
    "X-From: Phillip K Allen\n",
    "X-To: Tim Belden <Tim Belden/Enron@EnronXGate>\n",
    "X-cc: \n",
    "X-bcc: \n",
    "X-Folder: \\Phillip_Allen_Jan2002_1\\Allen, Phillip K.\\'Sent Mail\n",
    "X-Origin: Allen-P\n",
    "X-FileName: pallen (Non-Privileged).pst\n",
    "```\n",
    "\n",
    "- Store like CMU `maildir`\n",
    "    - The `maildir` is different for each person (e.g., `allen-p` and `arnold-j`).\n",
    "\n",
    "Example of `maildir` tree for `allen-p`: \n",
    "- `lastname-firstinitial`\n",
    "    - `_sent_mail`\n",
    "    - `all_documents`\n",
    "    - `contacts`\n",
    "    - `deleted_items`\n",
    "    - `discussion_threads`\n",
    "    - `inbox`\n",
    "    - `notes_inbox`\n",
    "    - `sent`\n",
    "    - `sent_items`\n",
    "    - `straw`\n"
   ]
  },
  {
   "cell_type": "markdown",
   "metadata": {},
   "source": [
    "# Parse All Emails"
   ]
  },
  {
   "cell_type": "markdown",
   "metadata": {},
   "source": [
    "THIS TOOK FOREVER"
   ]
  },
  {
   "cell_type": "code",
   "execution_count": 45,
   "metadata": {},
   "outputs": [
    {
     "name": "stdout",
     "output_type": "stream",
     "text": [
      "Number of JSON files read: 251734\n",
      "Keys in the first JSON file: dict_keys(['text', 'headers', 'subject', 'messageId', 'priority', 'from', 'to', 'date'])\n"
     ]
    }
   ],
   "source": [
    "import os\n",
    "import json\n",
    "\n",
    "# Directory containing the JSON files\n",
    "json_dir = os.path.join(cwd, \"../data\")\n",
    "\n",
    "# List to store the data from each JSON file\n",
    "json_data_list = []\n",
    "\n",
    "# Iterate over all files in the directory\n",
    "for filename in os.listdir(json_dir):\n",
    "    if filename.endswith(\".json\"):\n",
    "        file_path = os.path.join(json_dir, filename)\n",
    "        with open(file_path, \"r\") as file:\n",
    "            data = json.load(file)\n",
    "            json_data_list.append(data)\n",
    "\n",
    "# Print the number of JSON files read\n",
    "print(f\"Number of JSON files read: {len(json_data_list)}\")\n",
    "\n",
    "# Example: Print the keys of the first JSON file\n",
    "if json_data_list:\n",
    "    print(f\"Keys in the first JSON file: {json_data_list[0].keys()}\")"
   ]
  },
  {
   "cell_type": "code",
   "execution_count": 47,
   "metadata": {},
   "outputs": [],
   "source": [
    "import os\n",
    "import json\n",
    "import pandas as pd\n",
    "\n",
    "# Directory containing the JSON files\n",
    "json_dir = os.path.join(cwd, \"../data\")\n",
    "\n",
    "# List to store the data from each JSON file\n",
    "data_list = []\n",
    "\n",
    "# Iterate over all files in the directory\n",
    "for filename in os.listdir(json_dir):\n",
    "    if filename.endswith(\".json\"):\n",
    "        file_path = os.path.join(json_dir, filename)\n",
    "        with open(file_path, \"r\") as file:\n",
    "            data = json.load(file)\n",
    "            # Extract relevant information\n",
    "            email_data = {\n",
    "                \"message_id\": data[\"headers\"].get(\"message-id\", \"\"),\n",
    "                \"date\": data[\"headers\"].get(\"date\", \"\"),\n",
    "                \"from\": data[\"headers\"].get(\"from\", \"\"),\n",
    "                \"from_name\": data[\"headers\"].get(\"x-from\", \"\"),\n",
    "                \"to\": data[\"headers\"].get(\"to\", \"\"),\n",
    "                \"to_name\": data[\"headers\"].get(\"x-to\", \"\"),\n",
    "                \"cc\": data[\"headers\"].get(\"cc\", \"\"),\n",
    "                \"cc_name\": data[\"headers\"].get(\"x-cc\", \"\"),\n",
    "                \"bcc\": data[\"headers\"].get(\"bcc\", \"\"),\n",
    "                \"bcc_name\": data[\"headers\"].get(\"x-bcc\", \"\"),\n",
    "                \"subject\": data[\"headers\"].get(\"subject\", \"\"),\n",
    "                \"text\": data.get(\"text\", \"\"),\n",
    "                \"folder\": data[\"headers\"].get(\"x-folder\", \"\"),\n",
    "                \"origin\": data[\"headers\"].get(\"x-origin\", \"\"),\n",
    "                \"filename\": data[\"headers\"].get(\"x-filename\", \"\"),\n",
    "            }\n",
    "            data_list.append(email_data)\n",
    "\n",
    "# Create a DataFrame from the list of dictionaries\n",
    "emails_df = pd.DataFrame(data_list)\n",
    "\n",
    "# Save the DataFrame to a CSV file\n",
    "emails_df.to_csv(\"parsed_emails.csv\", index=False)\n",
    "\n",
    "# Print the first few rows of the DataFrame to verify\n",
    "# print(emails_df.head())"
   ]
  },
  {
   "cell_type": "code",
   "execution_count": 48,
   "metadata": {},
   "outputs": [
    {
     "data": {
      "text/html": [
       "<div>\n",
       "<style scoped>\n",
       "    .dataframe tbody tr th:only-of-type {\n",
       "        vertical-align: middle;\n",
       "    }\n",
       "\n",
       "    .dataframe tbody tr th {\n",
       "        vertical-align: top;\n",
       "    }\n",
       "\n",
       "    .dataframe thead th {\n",
       "        text-align: right;\n",
       "    }\n",
       "</style>\n",
       "<table border=\"1\" class=\"dataframe\">\n",
       "  <thead>\n",
       "    <tr style=\"text-align: right;\">\n",
       "      <th></th>\n",
       "      <th>message_id</th>\n",
       "      <th>date</th>\n",
       "      <th>from</th>\n",
       "      <th>from_name</th>\n",
       "      <th>to</th>\n",
       "      <th>to_name</th>\n",
       "      <th>cc</th>\n",
       "      <th>cc_name</th>\n",
       "      <th>bcc</th>\n",
       "      <th>bcc_name</th>\n",
       "      <th>subject</th>\n",
       "      <th>text</th>\n",
       "      <th>folder</th>\n",
       "      <th>origin</th>\n",
       "      <th>filename</th>\n",
       "    </tr>\n",
       "  </thead>\n",
       "  <tbody>\n",
       "    <tr>\n",
       "      <th>0</th>\n",
       "      <td>&lt;88180.1075863689140.JavaMail.evans@thyme&gt;</td>\n",
       "      <td>Tue, 8 May 2001 08:37:00 -0700 (PDT)</td>\n",
       "      <td>rika.imai@enron.com</td>\n",
       "      <td>Rika Imai</td>\n",
       "      <td>john.forney@enron.com, mike.carson@enron.com, ...</td>\n",
       "      <td>John M Forney, Mike Carson, Clint Dean, Doug G...</td>\n",
       "      <td></td>\n",
       "      <td></td>\n",
       "      <td></td>\n",
       "      <td></td>\n",
       "      <td>4 Month Rolling Forecast</td>\n",
       "      <td>---------------------- Forwarded by Rika Imai/...</td>\n",
       "      <td>\\Rob_Benson_Jun2001\\Notes Folders\\Notes inbox</td>\n",
       "      <td>Benson-R</td>\n",
       "      <td>rbenson.nsf</td>\n",
       "    </tr>\n",
       "    <tr>\n",
       "      <th>1</th>\n",
       "      <td>&lt;4460514.1075857469666.JavaMail.evans@thyme&gt;</td>\n",
       "      <td>Wed, 21 Jun 2000 02:01:00 -0700 (PDT)</td>\n",
       "      <td>hunter.shively@enron.com</td>\n",
       "      <td>Hunter S Shively</td>\n",
       "      <td>richard.tomaski@enron.com</td>\n",
       "      <td>Richard Tomaski</td>\n",
       "      <td></td>\n",
       "      <td></td>\n",
       "      <td></td>\n",
       "      <td></td>\n",
       "      <td>Re: Jim Simpson</td>\n",
       "      <td>great</td>\n",
       "      <td>\\Hunter_Shively_Jun2001\\Notes Folders\\Sent</td>\n",
       "      <td>Shively-H</td>\n",
       "      <td>hshivel.nsf</td>\n",
       "    </tr>\n",
       "    <tr>\n",
       "      <th>2</th>\n",
       "      <td>&lt;2160301.1075858147494.JavaMail.evans@thyme&gt;</td>\n",
       "      <td>Wed, 16 Aug 2000 03:03:00 -0700 (PDT)</td>\n",
       "      <td>matthew.lenhart@enron.com</td>\n",
       "      <td>Matthew Lenhart</td>\n",
       "      <td>shelliott@dttus.com</td>\n",
       "      <td>Shirley Elliott &lt;shelliott@dttus.com&gt; @ ENRON</td>\n",
       "      <td></td>\n",
       "      <td></td>\n",
       "      <td></td>\n",
       "      <td></td>\n",
       "      <td>Re: Re[2]:</td>\n",
       "      <td>oohh la la.  who was your \"friend\"?  did you g...</td>\n",
       "      <td>\\Matthew_Lenhart_Jun2001\\Notes Folders\\Sent</td>\n",
       "      <td>Lenhart-M</td>\n",
       "      <td>mlenhar.nsf</td>\n",
       "    </tr>\n",
       "    <tr>\n",
       "      <th>3</th>\n",
       "      <td>&lt;22847680.1075863611080.JavaMail.evans@thyme&gt;</td>\n",
       "      <td>Wed, 15 Aug 2001 05:46:47 -0700 (PDT)</td>\n",
       "      <td>rika.imai@enron.com</td>\n",
       "      <td>Imai, Rika &lt;/O=ENRON/OU=NA/CN=RECIPIENTS/CN=RI...</td>\n",
       "      <td>russell.ballato@enron.com, hicham.benjelloun@e...</td>\n",
       "      <td>Ballato, Russell &lt;/O=ENRON/OU=NA/CN=RECIPIENTS...</td>\n",
       "      <td></td>\n",
       "      <td></td>\n",
       "      <td></td>\n",
       "      <td></td>\n",
       "      <td>FW: Nuclear Rolling Forecast</td>\n",
       "      <td>\\nAttached are the two files with this week's ...</td>\n",
       "      <td>\\ExMerge - Benson, Robert\\Inbox\\Large Messages</td>\n",
       "      <td>BENSON-R</td>\n",
       "      <td>rob benson 6-25-02.PST</td>\n",
       "    </tr>\n",
       "    <tr>\n",
       "      <th>4</th>\n",
       "      <td>&lt;15012282.1075852957298.JavaMail.evans@thyme&gt;</td>\n",
       "      <td>Wed, 3 Oct 2001 00:35:05 -0700 (PDT)</td>\n",
       "      <td>jennifer.fraser@enron.com</td>\n",
       "      <td>Fraser, Jennifer &lt;/O=ENRON/OU=NA/CN=RECIPIENTS...</td>\n",
       "      <td>larry.may@enron.com</td>\n",
       "      <td>May, Larry &lt;/O=ENRON/OU=NA/CN=RECIPIENTS/CN=Lm...</td>\n",
       "      <td></td>\n",
       "      <td></td>\n",
       "      <td></td>\n",
       "      <td></td>\n",
       "      <td>hello</td>\n",
       "      <td>lm:\\nWhat are your thoughts going forward........</td>\n",
       "      <td>\\LMAY2 (Non-Privileged)\\Inbox</td>\n",
       "      <td>May-L</td>\n",
       "      <td>LMAY2 (Non-Privileged).pst</td>\n",
       "    </tr>\n",
       "  </tbody>\n",
       "</table>\n",
       "</div>"
      ],
      "text/plain": [
       "                                      message_id  \\\n",
       "0     <88180.1075863689140.JavaMail.evans@thyme>   \n",
       "1   <4460514.1075857469666.JavaMail.evans@thyme>   \n",
       "2   <2160301.1075858147494.JavaMail.evans@thyme>   \n",
       "3  <22847680.1075863611080.JavaMail.evans@thyme>   \n",
       "4  <15012282.1075852957298.JavaMail.evans@thyme>   \n",
       "\n",
       "                                    date                       from  \\\n",
       "0   Tue, 8 May 2001 08:37:00 -0700 (PDT)        rika.imai@enron.com   \n",
       "1  Wed, 21 Jun 2000 02:01:00 -0700 (PDT)   hunter.shively@enron.com   \n",
       "2  Wed, 16 Aug 2000 03:03:00 -0700 (PDT)  matthew.lenhart@enron.com   \n",
       "3  Wed, 15 Aug 2001 05:46:47 -0700 (PDT)        rika.imai@enron.com   \n",
       "4   Wed, 3 Oct 2001 00:35:05 -0700 (PDT)  jennifer.fraser@enron.com   \n",
       "\n",
       "                                           from_name  \\\n",
       "0                                          Rika Imai   \n",
       "1                                   Hunter S Shively   \n",
       "2                                    Matthew Lenhart   \n",
       "3  Imai, Rika </O=ENRON/OU=NA/CN=RECIPIENTS/CN=RI...   \n",
       "4  Fraser, Jennifer </O=ENRON/OU=NA/CN=RECIPIENTS...   \n",
       "\n",
       "                                                  to  \\\n",
       "0  john.forney@enron.com, mike.carson@enron.com, ...   \n",
       "1                          richard.tomaski@enron.com   \n",
       "2                                shelliott@dttus.com   \n",
       "3  russell.ballato@enron.com, hicham.benjelloun@e...   \n",
       "4                                larry.may@enron.com   \n",
       "\n",
       "                                             to_name cc cc_name bcc bcc_name  \\\n",
       "0  John M Forney, Mike Carson, Clint Dean, Doug G...                           \n",
       "1                                    Richard Tomaski                           \n",
       "2      Shirley Elliott <shelliott@dttus.com> @ ENRON                           \n",
       "3  Ballato, Russell </O=ENRON/OU=NA/CN=RECIPIENTS...                           \n",
       "4  May, Larry </O=ENRON/OU=NA/CN=RECIPIENTS/CN=Lm...                           \n",
       "\n",
       "                        subject  \\\n",
       "0      4 Month Rolling Forecast   \n",
       "1               Re: Jim Simpson   \n",
       "2                    Re: Re[2]:   \n",
       "3  FW: Nuclear Rolling Forecast   \n",
       "4                         hello   \n",
       "\n",
       "                                                text  \\\n",
       "0  ---------------------- Forwarded by Rika Imai/...   \n",
       "1                                              great   \n",
       "2  oohh la la.  who was your \"friend\"?  did you g...   \n",
       "3  \\nAttached are the two files with this week's ...   \n",
       "4  lm:\\nWhat are your thoughts going forward........   \n",
       "\n",
       "                                           folder     origin  \\\n",
       "0   \\Rob_Benson_Jun2001\\Notes Folders\\Notes inbox   Benson-R   \n",
       "1      \\Hunter_Shively_Jun2001\\Notes Folders\\Sent  Shively-H   \n",
       "2     \\Matthew_Lenhart_Jun2001\\Notes Folders\\Sent  Lenhart-M   \n",
       "3  \\ExMerge - Benson, Robert\\Inbox\\Large Messages   BENSON-R   \n",
       "4                   \\LMAY2 (Non-Privileged)\\Inbox      May-L   \n",
       "\n",
       "                     filename  \n",
       "0                 rbenson.nsf  \n",
       "1                 hshivel.nsf  \n",
       "2                 mlenhar.nsf  \n",
       "3      rob benson 6-25-02.PST  \n",
       "4  LMAY2 (Non-Privileged).pst  "
      ]
     },
     "execution_count": 48,
     "metadata": {},
     "output_type": "execute_result"
    }
   ],
   "source": [
    "emails_df.head(5)"
   ]
  },
  {
   "cell_type": "markdown",
   "metadata": {},
   "source": [
    "# Topic Modeling\n",
    "\n",
    "- First attempt took 9 min 12 s!!!"
   ]
  },
  {
   "cell_type": "code",
   "execution_count": 49,
   "metadata": {},
   "outputs": [
    {
     "name": "stdout",
     "output_type": "stream",
     "text": [
      "Topic 0:\n",
      "td font com http br tr size width href align\n",
      "Topic 1:\n",
      "know time just like good going let don think ll\n",
      "Topic 2:\n",
      "com company new business services http management www million technology\n",
      "Topic 3:\n",
      "enron power energy said company california state market gas new\n",
      "Topic 4:\n",
      "00 2001 message sent original subject pm 10 11 12\n",
      "Topic 5:\n",
      "com http www way new travel 00 2001 tx day\n",
      "Topic 6:\n",
      "com enron mail message intended subject mailto recipient 2001 net\n",
      "Topic 7:\n",
      "com http image www click asp email free net gif\n",
      "Topic 8:\n",
      "ect enron hou cc subject 2000 pm corp ees 2001\n",
      "Topic 9:\n",
      "enron subject gas need agreement thanks cc attached 2001 know\n"
     ]
    }
   ],
   "source": [
    "from sklearn.feature_extraction.text import CountVectorizer\n",
    "from sklearn.decomposition import LatentDirichletAllocation\n",
    "import numpy as np\n",
    "\n",
    "# Step 1: Preprocess the text data\n",
    "# For simplicity, we'll use the 'text' column from your DataFrame\n",
    "text_data = emails_df['text'].values\n",
    "\n",
    "# Step 2: Convert the text data into a document-term matrix\n",
    "vectorizer = CountVectorizer(max_df=0.95, min_df=2, stop_words='english')\n",
    "dtm = vectorizer.fit_transform(text_data)\n",
    "\n",
    "# Step 3: Fit the LDA model to the document-term matrix\n",
    "lda = LatentDirichletAllocation(n_components=10, random_state=42)\n",
    "lda.fit(dtm)\n",
    "\n",
    "# Step 4: Analyze the topics\n",
    "def display_topics(model, feature_names, no_top_words):\n",
    "    for topic_idx, topic in enumerate(model.components_):\n",
    "        print(f\"Topic {topic_idx}:\")\n",
    "        print(\" \".join([feature_names[i] for i in topic.argsort()[:-no_top_words - 1:-1]]))\n",
    "\n",
    "no_top_words = 10\n",
    "tf_feature_names = vectorizer.get_feature_names_out()\n",
    "display_topics(lda, tf_feature_names, no_top_words)"
   ]
  },
  {
   "cell_type": "code",
   "execution_count": null,
   "metadata": {},
   "outputs": [],
   "source": []
  }
 ],
 "metadata": {
  "kernelspec": {
   "display_name": "enron",
   "language": "python",
   "name": "python3"
  },
  "language_info": {
   "codemirror_mode": {
    "name": "ipython",
    "version": 3
   },
   "file_extension": ".py",
   "mimetype": "text/x-python",
   "name": "python",
   "nbconvert_exporter": "python",
   "pygments_lexer": "ipython3",
   "version": "3.12.7"
  }
 },
 "nbformat": 4,
 "nbformat_minor": 2
}
