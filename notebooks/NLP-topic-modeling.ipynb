{
 "cells": [
  {
   "cell_type": "markdown",
   "metadata": {},
   "source": [
    "# NLP Topic Modeling\n",
    "\n",
    "**AUTHOR:** Nolan MacDonald\n",
    "\n",
    "**DATE OF LAST SIGNIFICANT UPDATE:** 2024-NOV-02\n",
    "\n",
    "**DESCRIPTION:** Enron Corpus Natural Language Processing (NLP) topic modeling\n",
    "\n",
    "**GITHUB ISSUE #2:** https://github.com/nolmacdonald/INTA6450_Enron/issues/2"
   ]
  },
  {
   "cell_type": "markdown",
   "metadata": {},
   "source": [
    "## Overview\n",
    "\n",
    "\n"
   ]
  },
  {
   "cell_type": "markdown",
   "metadata": {},
   "source": [
    "Topic modeling will use the Latent Dirichlet Allocation (LDA) generative model to provide all possible outcomes for a given phenomenon. This would reveal clusters of emails focused on an act of wrongdoing. Use Python scikit-learn for [LatentDirichletAllocation](https://scikit-learn.org/1.5/modules/generated/sklearn.decomposition.LatentDirichletAllocation.html)."
   ]
  },
  {
   "cell_type": "markdown",
   "metadata": {},
   "source": [
    "- [Kaggle Code](https://www.kaggle.com/datasets/wcukierski/enron-email-dataset/code?datasetId=55&sortBy=voteCount)\n",
    "- [Kaggle Topic Modeling](https://www.kaggle.com/code/jaykrishna/topic-modeling-enron-email-dataset)\n",
    "- [Kaggle Network Analysis](https://www.kaggle.com/code/jamestollefson/enron-network-analysis)\n",
    "- [Gensim documentation](https://radimrehurek.com/gensim/auto_examples/index.html#documentation): Topic modeling for humans\n",
    "\n",
    "[Kaggle](https://www.kaggle.com/datasets/wcukierski/enron-email-dataset?resource=download)"
   ]
  },
  {
   "cell_type": "markdown",
   "metadata": {},
   "source": [
    "## Parse Data"
   ]
  },
  {
   "cell_type": "code",
   "execution_count": null,
   "metadata": {
    "vscode": {
     "languageId": "plaintext"
    }
   },
   "outputs": [],
   "source": []
  },
  {
   "cell_type": "markdown",
   "metadata": {},
   "source": []
  }
 ],
 "metadata": {
  "language_info": {
   "name": "python"
  }
 },
 "nbformat": 4,
 "nbformat_minor": 2
}
